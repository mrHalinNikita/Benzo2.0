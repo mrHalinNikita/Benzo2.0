{
  "nbformat": 4,
  "nbformat_minor": 0,
  "metadata": {
    "colab": {
      "provenance": [],
      "mount_file_id": "1AifZhIVeqxov6PwG_SOYOml_Ce7Np6g9",
      "authorship_tag": "ABX9TyNrGtmw1GZvC2mts6ERZMd2",
      "include_colab_link": true
    },
    "kernelspec": {
      "name": "python3",
      "display_name": "Python 3"
    },
    "language_info": {
      "name": "python"
    }
  },
  "cells": [
    {
      "cell_type": "markdown",
      "metadata": {
        "id": "view-in-github",
        "colab_type": "text"
      },
      "source": [
        "<a href=\"https://colab.research.google.com/github/mrHalinNikita/Benzo2.0/blob/main/firstproject.ipynb\" target=\"_parent\"><img src=\"https://colab.research.google.com/assets/colab-badge.svg\" alt=\"Open In Colab\"/></a>"
      ]
    },
    {
      "cell_type": "code",
      "execution_count": null,
      "metadata": {
        "id": "tzdVfgy3n40E"
      },
      "outputs": [],
      "source": [
        "import os\n",
        "os.chdir('/content/drive/MyDrive/Colab Notebooks')"
      ]
    },
    {
      "cell_type": "code",
      "source": [
        "# импорт модулей\n",
        "from tensorflow import keras\n",
        "import matplotlib.pyplot as plt\n",
        "import numpy as np\n",
        "import sklearn"
      ],
      "metadata": {
        "id": "tTMz9oeXqESy"
      },
      "execution_count": null,
      "outputs": []
    },
    {
      "cell_type": "code",
      "source": [
        "# загрузка датасета\n",
        "from keras.datasets import mnist\n",
        "(X_train, y_train), (X_test, y_test) = mnist.load_data()"
      ],
      "metadata": {
        "colab": {
          "base_uri": "https://localhost:8080/"
        },
        "id": "ASAGazLsqpTN",
        "outputId": "ff1e3e1f-ecc0-4047-be79-307b315c3519"
      },
      "execution_count": null,
      "outputs": [
        {
          "output_type": "stream",
          "name": "stdout",
          "text": [
            "Downloading data from https://storage.googleapis.com/tensorflow/tf-keras-datasets/mnist.npz\n",
            "11490434/11490434 [==============================] - 0s 0us/step\n"
          ]
        }
      ]
    },
    {
      "cell_type": "code",
      "source": [
        "# создание своего разбиения датасета\n",
        "from sklearn.model_selection import train_test_split\n",
        "# объединяем в один набор\n",
        "X = np.concatenate((X_train, X_test))\n",
        "y = np.concatenate((y_train, y_test))\n",
        "# разбиваем по вариантам\n",
        "X_train, X_test, y_train, y_test = train_test_split(X, y,\n",
        "test_size = 10000,\n",
        "train_size = 60000,\n",
        "random_state = 123)"
      ],
      "metadata": {
        "id": "JqaLhnuBrqVB"
      },
      "execution_count": null,
      "outputs": []
    },
    {
      "cell_type": "code",
      "source": [
        "# вывод размерностей\n",
        "print('Shape of X train:', X_train.shape)\n",
        "print('Shape of y train:', y_train.shape)"
      ],
      "metadata": {
        "colab": {
          "base_uri": "https://localhost:8080/"
        },
        "id": "kRnYuWpesC2f",
        "outputId": "56b3f45e-9663-4556-b378-7b79a986e6a6"
      },
      "execution_count": null,
      "outputs": [
        {
          "output_type": "stream",
          "name": "stdout",
          "text": [
            "Shape of X train: (60000, 28, 28)\n",
            "Shape of y train: (60000,)\n"
          ]
        }
      ]
    },
    {
      "cell_type": "code",
      "source": [
        "# вывод изображения\n",
        "plt.imshow(X_train[123], cmap=plt.get_cmap('gray'))\n",
        "plt.show()\n",
        "# вывод метки для этого изображения\n",
        "print(y_train[123])"
      ],
      "metadata": {
        "colab": {
          "base_uri": "https://localhost:8080/",
          "height": 447
        },
        "id": "F9W8YroTsS37",
        "outputId": "d668a7d4-fcc6-4e8f-d018-c0fdf565b5ea"
      },
      "execution_count": null,
      "outputs": [
        {
          "output_type": "display_data",
          "data": {
            "text/plain": [
              "<Figure size 640x480 with 1 Axes>"
            ],
            "image/png": "[encoded data removed]"
          },
          "metadata": {}
        },
        {
          "output_type": "stream",
          "name": "stdout",
          "text": [
            "4\n"
          ]
        }
      ]
    },
    {
      "cell_type": "code",
      "source": [
        "# развернем каждое изображение 28*28 в вектор 784\n",
        "num_pixels = X_train.shape[1] * X_train.shape[2]\n",
        "X_train = X_train.reshape(X_train.shape[0], num_pixels) / 255\n",
        "X_test = X_test.reshape(X_test.shape[0], num_pixels) / 255\n",
        "print('Shape of transformed X train:', X_train.shape)"
      ],
      "metadata": {
        "colab": {
          "base_uri": "https://localhost:8080/"
        },
        "id": "jUHeI__msv5x",
        "outputId": "2b674905-189a-473a-bff8-fac4bffc443d"
      },
      "execution_count": null,
      "outputs": [
        {
          "output_type": "stream",
          "name": "stdout",
          "text": [
            "Shape of transformed X train: (60000, 784)\n"
          ]
        }
      ]
    },
    {
      "cell_type": "code",
      "source": [
        "# переведем метки в one-hot\n",
        "from keras.utils import np_utils\n",
        "y_train = np_utils.to_categorical(y_train)\n",
        "y_test = np_utils.to_categorical(y_test)\n",
        "print('Shape of transformed y train:', y_train.shape)\n",
        "num_classes = y_train.shape[1]"
      ],
      "metadata": {
        "colab": {
          "base_uri": "https://localhost:8080/"
        },
        "id": "jrCAh3gStLHK",
        "outputId": "fa0c60ce-d046-482d-fa85-b2055534de0f"
      },
      "execution_count": null,
      "outputs": [
        {
          "output_type": "stream",
          "name": "stdout",
          "text": [
            "Shape of transformed y train: (60000, 10)\n"
          ]
        }
      ]
    },
    {
      "cell_type": "code",
      "source": [
        "from keras.models import Sequential\n",
        "from keras.layers import Dense"
      ],
      "metadata": {
        "id": "6RB0takVthzB"
      },
      "execution_count": null,
      "outputs": []
    },
    {
      "cell_type": "code",
      "source": [
        "# 1. создаем модель - объявляем ее объектом класса Sequential\n",
        "model = Sequential()\n",
        "# 2. добавляем первый скрытый слой\n",
        "model.add(Dense(units=300, input_dim=num_pixels, activation='sigmoid'))\n",
        "# 3. добавляем второй скрытый слой\n",
        "model.add(Dense(units=100, activation='sigmoid'))\n",
        "# 4. добавляем выходной слой\n",
        "model.add(Dense(units=num_classes, activation='softmax'))\n",
        "# 5. компилируем модель\n",
        "model.compile(loss='categorical_crossentropy', optimizer='sgd', metrics=['accuracy'])"
      ],
      "metadata": {
        "id": "Zk9ZFr0FugDQ"
      },
      "execution_count": null,
      "outputs": []
    },
    {
      "cell_type": "code",
      "source": [
        "# вывод информации об архитектуре модели\n",
        "print(model.summary())"
      ],
      "metadata": {
        "colab": {
          "base_uri": "https://localhost:8080/"
        },
        "id": "19t1NivZvOgN",
        "outputId": "898ec831-cad7-4b4e-933a-f368a3cdb113"
      },
      "execution_count": null,
      "outputs": [
        {
          "output_type": "stream",
          "name": "stdout",
          "text": [
            "Model: \"sequential\"\n",
            "_________________________________________________________________\n",
            " Layer (type)                Output Shape              Param #   \n",
            "=================================================================\n",
            " dense (Dense)               (None, 300)               235500    \n",
            "                                                                 \n",
            " dense_1 (Dense)             (None, 100)               30100     \n",
            "                                                                 \n",
            " dense_2 (Dense)             (None, 10)                1010      \n",
            "                                                                 \n",
            "=================================================================\n",
            "Total params: 266,610\n",
            "Trainable params: 266,610\n",
            "Non-trainable params: 0\n",
            "_________________________________________________________________\n",
            "None\n"
          ]
        }
      ]
    },
    {
      "cell_type": "code",
      "source": [
        "# Обучаем модель\n",
        "H = model.fit(X_train, y_train, validation_split=0.1, epochs=100)"
      ],
      "metadata": {
        "colab": {
          "base_uri": "https://localhost:8080/"
        },
        "id": "_FYuiQePvYu7",
        "outputId": "322fc463-420b-4b51-afa4-813d95878649"
      },
      "execution_count": null,
      "outputs": [
        {
          "output_type": "stream",
          "name": "stdout",
          "text": [
            "Epoch 1/100\n",
            "1688/1688 [==============================] - 9s 5ms/step - loss: 2.1470 - accuracy: 0.4124 - val_loss: 1.9196 - val_accuracy: 0.6147\n",
            "Epoch 2/100\n",
            "1688/1688 [==============================] - 8s 5ms/step - loss: 1.5482 - accuracy: 0.6796 - val_loss: 1.2074 - val_accuracy: 0.7307\n",
            "Epoch 3/100\n",
            "1688/1688 [==============================] - 9s 5ms/step - loss: 0.9810 - accuracy: 0.7807 - val_loss: 0.8157 - val_accuracy: 0.8093\n",
            "Epoch 4/100\n",
            "1688/1688 [==============================] - 7s 4ms/step - loss: 0.7131 - accuracy: 0.8272 - val_loss: 0.6353 - val_accuracy: 0.8340\n",
            "Epoch 5/100\n",
            "1688/1688 [==============================] - 9s 5ms/step - loss: 0.5800 - accuracy: 0.8525 - val_loss: 0.5373 - val_accuracy: 0.8607\n",
            "Epoch 6/100\n",
            "1688/1688 [==============================] - 7s 4ms/step - loss: 0.5034 - accuracy: 0.8678 - val_loss: 0.4778 - val_accuracy: 0.8728\n",
            "Epoch 7/100\n",
            "1688/1688 [==============================] - 9s 5ms/step - loss: 0.4541 - accuracy: 0.8791 - val_loss: 0.4384 - val_accuracy: 0.8818\n",
            "Epoch 8/100\n",
            "1688/1688 [==============================] - 7s 4ms/step - loss: 0.4202 - accuracy: 0.8865 - val_loss: 0.4093 - val_accuracy: 0.8888\n",
            "Epoch 9/100\n",
            "1688/1688 [==============================] - 10s 6ms/step - loss: 0.3955 - accuracy: 0.8916 - val_loss: 0.3915 - val_accuracy: 0.8918\n",
            "Epoch 10/100\n",
            "1688/1688 [==============================] - 7s 4ms/step - loss: 0.3770 - accuracy: 0.8955 - val_loss: 0.3728 - val_accuracy: 0.8968\n",
            "Epoch 11/100\n",
            "1688/1688 [==============================] - 9s 5ms/step - loss: 0.3622 - accuracy: 0.8983 - val_loss: 0.3605 - val_accuracy: 0.9007\n",
            "Epoch 12/100\n",
            "1688/1688 [==============================] - 9s 5ms/step - loss: 0.3501 - accuracy: 0.9014 - val_loss: 0.3509 - val_accuracy: 0.9028\n",
            "Epoch 13/100\n",
            "1688/1688 [==============================] - 9s 5ms/step - loss: 0.3402 - accuracy: 0.9031 - val_loss: 0.3415 - val_accuracy: 0.9047\n",
            "Epoch 14/100\n",
            "1688/1688 [==============================] - 9s 5ms/step - loss: 0.3314 - accuracy: 0.9051 - val_loss: 0.3348 - val_accuracy: 0.9062\n",
            "Epoch 15/100\n",
            "1688/1688 [==============================] - 7s 4ms/step - loss: 0.3240 - accuracy: 0.9077 - val_loss: 0.3269 - val_accuracy: 0.9078\n",
            "Epoch 16/100\n",
            "1688/1688 [==============================] - 9s 5ms/step - loss: 0.3173 - accuracy: 0.9089 - val_loss: 0.3212 - val_accuracy: 0.9093\n",
            "Epoch 17/100\n",
            "1688/1688 [==============================] - 7s 4ms/step - loss: 0.3113 - accuracy: 0.9108 - val_loss: 0.3153 - val_accuracy: 0.9102\n",
            "Epoch 18/100\n",
            "1688/1688 [==============================] - 9s 5ms/step - loss: 0.3059 - accuracy: 0.9121 - val_loss: 0.3114 - val_accuracy: 0.9123\n",
            "Epoch 19/100\n",
            "1688/1688 [==============================] - 7s 4ms/step - loss: 0.3007 - accuracy: 0.9139 - val_loss: 0.3078 - val_accuracy: 0.9142\n",
            "Epoch 20/100\n",
            "1688/1688 [==============================] - 8s 5ms/step - loss: 0.2961 - accuracy: 0.9147 - val_loss: 0.3020 - val_accuracy: 0.9145\n",
            "Epoch 21/100\n",
            "1688/1688 [==============================] - 8s 5ms/step - loss: 0.2916 - accuracy: 0.9155 - val_loss: 0.2979 - val_accuracy: 0.9152\n",
            "Epoch 22/100\n",
            "1688/1688 [==============================] - 8s 5ms/step - loss: 0.2874 - accuracy: 0.9171 - val_loss: 0.2961 - val_accuracy: 0.9158\n",
            "Epoch 23/100\n",
            "1688/1688 [==============================] - 9s 5ms/step - loss: 0.2835 - accuracy: 0.9181 - val_loss: 0.2926 - val_accuracy: 0.9148\n",
            "Epoch 24/100\n",
            "1688/1688 [==============================] - 7s 4ms/step - loss: 0.2800 - accuracy: 0.9190 - val_loss: 0.2892 - val_accuracy: 0.9170\n",
            "Epoch 25/100\n",
            "1688/1688 [==============================] - 9s 5ms/step - loss: 0.2765 - accuracy: 0.9202 - val_loss: 0.2846 - val_accuracy: 0.9193\n",
            "Epoch 26/100\n",
            "1688/1688 [==============================] - 7s 4ms/step - loss: 0.2731 - accuracy: 0.9214 - val_loss: 0.2817 - val_accuracy: 0.9188\n",
            "Epoch 27/100\n",
            "1688/1688 [==============================] - 9s 5ms/step - loss: 0.2697 - accuracy: 0.9218 - val_loss: 0.2787 - val_accuracy: 0.9192\n",
            "Epoch 28/100\n",
            "1688/1688 [==============================] - 7s 4ms/step - loss: 0.2666 - accuracy: 0.9227 - val_loss: 0.2765 - val_accuracy: 0.9205\n",
            "Epoch 29/100\n",
            "1688/1688 [==============================] - 9s 5ms/step - loss: 0.2637 - accuracy: 0.9231 - val_loss: 0.2736 - val_accuracy: 0.9227\n",
            "Epoch 30/100\n",
            "1688/1688 [==============================] - 7s 4ms/step - loss: 0.2605 - accuracy: 0.9241 - val_loss: 0.2700 - val_accuracy: 0.9227\n",
            "Epoch 31/100\n",
            "1688/1688 [==============================] - 9s 5ms/step - loss: 0.2578 - accuracy: 0.9251 - val_loss: 0.2683 - val_accuracy: 0.9218\n",
            "Epoch 32/100\n",
            "1688/1688 [==============================] - 8s 5ms/step - loss: 0.2551 - accuracy: 0.9260 - val_loss: 0.2649 - val_accuracy: 0.9238\n",
            "Epoch 33/100\n",
            "1688/1688 [==============================] - 8s 5ms/step - loss: 0.2522 - accuracy: 0.9268 - val_loss: 0.2630 - val_accuracy: 0.9253\n",
            "Epoch 34/100\n",
            "1688/1688 [==============================] - 8s 5ms/step - loss: 0.2496 - accuracy: 0.9277 - val_loss: 0.2606 - val_accuracy: 0.9262\n",
            "Epoch 35/100\n",
            "1688/1688 [==============================] - 7s 4ms/step - loss: 0.2469 - accuracy: 0.9278 - val_loss: 0.2576 - val_accuracy: 0.9248\n",
            "Epoch 36/100\n",
            "1688/1688 [==============================] - 9s 5ms/step - loss: 0.2444 - accuracy: 0.9287 - val_loss: 0.2566 - val_accuracy: 0.9268\n",
            "Epoch 37/100\n",
            "1688/1688 [==============================] - 7s 4ms/step - loss: 0.2418 - accuracy: 0.9295 - val_loss: 0.2532 - val_accuracy: 0.9272\n",
            "Epoch 38/100\n",
            "1688/1688 [==============================] - 9s 5ms/step - loss: 0.2392 - accuracy: 0.9306 - val_loss: 0.2509 - val_accuracy: 0.9283\n",
            "Epoch 39/100\n",
            "1688/1688 [==============================] - 7s 4ms/step - loss: 0.2367 - accuracy: 0.9309 - val_loss: 0.2477 - val_accuracy: 0.9297\n",
            "Epoch 40/100\n",
            "1688/1688 [==============================] - 9s 5ms/step - loss: 0.2343 - accuracy: 0.9319 - val_loss: 0.2451 - val_accuracy: 0.9303\n",
            "Epoch 41/100\n",
            "1688/1688 [==============================] - 7s 4ms/step - loss: 0.2319 - accuracy: 0.9330 - val_loss: 0.2437 - val_accuracy: 0.9308\n",
            "Epoch 42/100\n",
            "1688/1688 [==============================] - 9s 5ms/step - loss: 0.2296 - accuracy: 0.9332 - val_loss: 0.2426 - val_accuracy: 0.9310\n",
            "Epoch 43/100\n",
            "1688/1688 [==============================] - 7s 4ms/step - loss: 0.2271 - accuracy: 0.9343 - val_loss: 0.2391 - val_accuracy: 0.9295\n",
            "Epoch 44/100\n",
            "1688/1688 [==============================] - 8s 5ms/step - loss: 0.2249 - accuracy: 0.9347 - val_loss: 0.2373 - val_accuracy: 0.9318\n",
            "Epoch 45/100\n",
            "1688/1688 [==============================] - 8s 5ms/step - loss: 0.2225 - accuracy: 0.9351 - val_loss: 0.2355 - val_accuracy: 0.9327\n",
            "Epoch 46/100\n",
            "1688/1688 [==============================] - 8s 5ms/step - loss: 0.2204 - accuracy: 0.9359 - val_loss: 0.2327 - val_accuracy: 0.9330\n",
            "Epoch 47/100\n",
            "1688/1688 [==============================] - 9s 5ms/step - loss: 0.2180 - accuracy: 0.9372 - val_loss: 0.2305 - val_accuracy: 0.9327\n",
            "Epoch 48/100\n",
            "1688/1688 [==============================] - 8s 5ms/step - loss: 0.2158 - accuracy: 0.9383 - val_loss: 0.2295 - val_accuracy: 0.9327\n",
            "Epoch 49/100\n",
            "1688/1688 [==============================] - 10s 6ms/step - loss: 0.2136 - accuracy: 0.9380 - val_loss: 0.2279 - val_accuracy: 0.9345\n",
            "Epoch 50/100\n",
            "1688/1688 [==============================] - 7s 4ms/step - loss: 0.2114 - accuracy: 0.9390 - val_loss: 0.2254 - val_accuracy: 0.9348\n",
            "Epoch 51/100\n",
            "1688/1688 [==============================] - 9s 5ms/step - loss: 0.2093 - accuracy: 0.9397 - val_loss: 0.2237 - val_accuracy: 0.9365\n",
            "Epoch 52/100\n",
            "1688/1688 [==============================] - 8s 5ms/step - loss: 0.2072 - accuracy: 0.9402 - val_loss: 0.2211 - val_accuracy: 0.9343\n",
            "Epoch 53/100\n",
            "1688/1688 [==============================] - 8s 5ms/step - loss: 0.2052 - accuracy: 0.9405 - val_loss: 0.2194 - val_accuracy: 0.9363\n",
            "Epoch 54/100\n",
            "1688/1688 [==============================] - 9s 5ms/step - loss: 0.2032 - accuracy: 0.9406 - val_loss: 0.2179 - val_accuracy: 0.9355\n",
            "Epoch 55/100\n",
            "1688/1688 [==============================] - 7s 4ms/step - loss: 0.2011 - accuracy: 0.9418 - val_loss: 0.2164 - val_accuracy: 0.9372\n",
            "Epoch 56/100\n",
            "1688/1688 [==============================] - 9s 5ms/step - loss: 0.1991 - accuracy: 0.9422 - val_loss: 0.2144 - val_accuracy: 0.9365\n",
            "Epoch 57/100\n",
            "1688/1688 [==============================] - 7s 4ms/step - loss: 0.1971 - accuracy: 0.9434 - val_loss: 0.2122 - val_accuracy: 0.9382\n",
            "Epoch 58/100\n",
            "1688/1688 [==============================] - 9s 5ms/step - loss: 0.1952 - accuracy: 0.9432 - val_loss: 0.2098 - val_accuracy: 0.9398\n",
            "Epoch 59/100\n",
            "1688/1688 [==============================] - 7s 4ms/step - loss: 0.1933 - accuracy: 0.9439 - val_loss: 0.2099 - val_accuracy: 0.9392\n",
            "Epoch 60/100\n",
            "1688/1688 [==============================] - 9s 5ms/step - loss: 0.1914 - accuracy: 0.9446 - val_loss: 0.2071 - val_accuracy: 0.9402\n",
            "Epoch 61/100\n",
            "1688/1688 [==============================] - 7s 4ms/step - loss: 0.1894 - accuracy: 0.9451 - val_loss: 0.2063 - val_accuracy: 0.9393\n",
            "Epoch 62/100\n",
            "1688/1688 [==============================] - 9s 5ms/step - loss: 0.1874 - accuracy: 0.9457 - val_loss: 0.2055 - val_accuracy: 0.9408\n",
            "Epoch 63/100\n",
            "1688/1688 [==============================] - 8s 5ms/step - loss: 0.1858 - accuracy: 0.9462 - val_loss: 0.2018 - val_accuracy: 0.9430\n",
            "Epoch 64/100\n",
            "1688/1688 [==============================] - 8s 5ms/step - loss: 0.1840 - accuracy: 0.9465 - val_loss: 0.2006 - val_accuracy: 0.9432\n",
            "Epoch 65/100\n",
            "1688/1688 [==============================] - 9s 5ms/step - loss: 0.1823 - accuracy: 0.9473 - val_loss: 0.1988 - val_accuracy: 0.9428\n",
            "Epoch 66/100\n",
            "1688/1688 [==============================] - 8s 5ms/step - loss: 0.1805 - accuracy: 0.9479 - val_loss: 0.1979 - val_accuracy: 0.9432\n",
            "Epoch 67/100\n",
            "1688/1688 [==============================] - 9s 5ms/step - loss: 0.1788 - accuracy: 0.9485 - val_loss: 0.1960 - val_accuracy: 0.9433\n",
            "Epoch 68/100\n",
            "1688/1688 [==============================] - 7s 4ms/step - loss: 0.1771 - accuracy: 0.9486 - val_loss: 0.1948 - val_accuracy: 0.9443\n",
            "Epoch 69/100\n",
            "1688/1688 [==============================] - 10s 6ms/step - loss: 0.1755 - accuracy: 0.9493 - val_loss: 0.1931 - val_accuracy: 0.9445\n",
            "Epoch 70/100\n",
            "1688/1688 [==============================] - 8s 5ms/step - loss: 0.1737 - accuracy: 0.9492 - val_loss: 0.1922 - val_accuracy: 0.9445\n",
            "Epoch 71/100\n",
            "1688/1688 [==============================] - 8s 5ms/step - loss: 0.1721 - accuracy: 0.9499 - val_loss: 0.1904 - val_accuracy: 0.9452\n",
            "Epoch 72/100\n",
            "1688/1688 [==============================] - 10s 6ms/step - loss: 0.1704 - accuracy: 0.9500 - val_loss: 0.1898 - val_accuracy: 0.9452\n",
            "Epoch 73/100\n",
            "1688/1688 [==============================] - 8s 4ms/step - loss: 0.1689 - accuracy: 0.9513 - val_loss: 0.1878 - val_accuracy: 0.9452\n",
            "Epoch 74/100\n",
            "1688/1688 [==============================] - 10s 6ms/step - loss: 0.1674 - accuracy: 0.9515 - val_loss: 0.1858 - val_accuracy: 0.9463\n",
            "Epoch 75/100\n",
            "1688/1688 [==============================] - 8s 5ms/step - loss: 0.1659 - accuracy: 0.9520 - val_loss: 0.1847 - val_accuracy: 0.9465\n",
            "Epoch 76/100\n",
            "1688/1688 [==============================] - 9s 5ms/step - loss: 0.1643 - accuracy: 0.9522 - val_loss: 0.1839 - val_accuracy: 0.9465\n",
            "Epoch 77/100\n",
            "1688/1688 [==============================] - 9s 5ms/step - loss: 0.1629 - accuracy: 0.9523 - val_loss: 0.1821 - val_accuracy: 0.9472\n",
            "Epoch 78/100\n",
            "1688/1688 [==============================] - 7s 4ms/step - loss: 0.1614 - accuracy: 0.9532 - val_loss: 0.1807 - val_accuracy: 0.9478\n",
            "Epoch 79/100\n",
            "1688/1688 [==============================] - 9s 5ms/step - loss: 0.1598 - accuracy: 0.9532 - val_loss: 0.1804 - val_accuracy: 0.9480\n",
            "Epoch 80/100\n",
            "1688/1688 [==============================] - 7s 4ms/step - loss: 0.1585 - accuracy: 0.9537 - val_loss: 0.1782 - val_accuracy: 0.9482\n",
            "Epoch 81/100\n",
            "1688/1688 [==============================] - 9s 5ms/step - loss: 0.1572 - accuracy: 0.9539 - val_loss: 0.1771 - val_accuracy: 0.9492\n",
            "Epoch 82/100\n",
            "1688/1688 [==============================] - 10s 6ms/step - loss: 0.1555 - accuracy: 0.9542 - val_loss: 0.1765 - val_accuracy: 0.9485\n",
            "Epoch 83/100\n",
            "1688/1688 [==============================] - 8s 5ms/step - loss: 0.1543 - accuracy: 0.9554 - val_loss: 0.1755 - val_accuracy: 0.9485\n",
            "Epoch 84/100\n",
            "1688/1688 [==============================] - 8s 5ms/step - loss: 0.1530 - accuracy: 0.9555 - val_loss: 0.1734 - val_accuracy: 0.9495\n",
            "Epoch 85/100\n",
            "1688/1688 [==============================] - 8s 5ms/step - loss: 0.1516 - accuracy: 0.9559 - val_loss: 0.1730 - val_accuracy: 0.9490\n",
            "Epoch 86/100\n",
            "1688/1688 [==============================] - 9s 5ms/step - loss: 0.1504 - accuracy: 0.9565 - val_loss: 0.1717 - val_accuracy: 0.9497\n",
            "Epoch 87/100\n",
            "1688/1688 [==============================] - 7s 4ms/step - loss: 0.1490 - accuracy: 0.9566 - val_loss: 0.1698 - val_accuracy: 0.9505\n",
            "Epoch 88/100\n",
            "1688/1688 [==============================] - 9s 5ms/step - loss: 0.1477 - accuracy: 0.9573 - val_loss: 0.1695 - val_accuracy: 0.9502\n",
            "Epoch 89/100\n",
            "1688/1688 [==============================] - 7s 4ms/step - loss: 0.1465 - accuracy: 0.9576 - val_loss: 0.1676 - val_accuracy: 0.9517\n",
            "Epoch 90/100\n",
            "1688/1688 [==============================] - 9s 5ms/step - loss: 0.1451 - accuracy: 0.9581 - val_loss: 0.1667 - val_accuracy: 0.9515\n",
            "Epoch 91/100\n",
            "1688/1688 [==============================] - 8s 4ms/step - loss: 0.1439 - accuracy: 0.9586 - val_loss: 0.1656 - val_accuracy: 0.9515\n",
            "Epoch 92/100\n",
            "1688/1688 [==============================] - 9s 5ms/step - loss: 0.1428 - accuracy: 0.9583 - val_loss: 0.1653 - val_accuracy: 0.9523\n",
            "Epoch 93/100\n",
            "1688/1688 [==============================] - 8s 5ms/step - loss: 0.1415 - accuracy: 0.9591 - val_loss: 0.1652 - val_accuracy: 0.9515\n",
            "Epoch 94/100\n",
            "1688/1688 [==============================] - 8s 5ms/step - loss: 0.1404 - accuracy: 0.9591 - val_loss: 0.1636 - val_accuracy: 0.9520\n",
            "Epoch 95/100\n",
            "1688/1688 [==============================] - 8s 5ms/step - loss: 0.1393 - accuracy: 0.9597 - val_loss: 0.1619 - val_accuracy: 0.9533\n",
            "Epoch 96/100\n",
            "1688/1688 [==============================] - 7s 4ms/step - loss: 0.1381 - accuracy: 0.9602 - val_loss: 0.1611 - val_accuracy: 0.9540\n",
            "Epoch 97/100\n",
            "1688/1688 [==============================] - 9s 5ms/step - loss: 0.1369 - accuracy: 0.9605 - val_loss: 0.1595 - val_accuracy: 0.9538\n",
            "Epoch 98/100\n",
            "1688/1688 [==============================] - 7s 4ms/step - loss: 0.1358 - accuracy: 0.9606 - val_loss: 0.1597 - val_accuracy: 0.9540\n",
            "Epoch 99/100\n",
            "1688/1688 [==============================] - 9s 5ms/step - loss: 0.1347 - accuracy: 0.9611 - val_loss: 0.1577 - val_accuracy: 0.9548\n",
            "Epoch 100/100\n",
            "1688/1688 [==============================] - 7s 4ms/step - loss: 0.1336 - accuracy: 0.9616 - val_loss: 0.1568 - val_accuracy: 0.9545\n"
          ]
        }
      ]
    },
    {
      "cell_type": "code",
      "source": [
        "# вывод графика ошибки по эпохам\n",
        "plt.plot(H.history['loss'])\n",
        "plt.plot(H.history['val_loss'])\n",
        "plt.grid()\n",
        "plt.xlabel('Epochs')\n",
        "plt.ylabel('loss')\n",
        "plt.legend(['train_loss', 'val_loss'])\n",
        "plt.title('Loss by epochs')\n",
        "plt.show()"
      ],
      "metadata": {
        "colab": {
          "base_uri": "https://localhost:8080/",
          "height": 472
        },
        "id": "hvWyp806y0Vr",
        "outputId": "5a77a27c-c95f-45e1-b3f7-11158e3b921c"
      },
      "execution_count": null,
      "outputs": [
        {
          "output_type": "display_data",
          "data": {
            "text/plain": [
              "<Figure size 640x480 with 1 Axes>"
            ],
            "image/png": "[encoded data removed]"
          },
          "metadata": {}
        }
      ]
    },
    {
      "cell_type": "code",
      "source": [
        "# Оценка качества работы модели на тестовых данных\n",
        "scores = model.evaluate(X_test, y_test)\n",
        "print('Loss on test data:', scores[0])\n",
        "print('Accuracy on test data:', scores[1])"
      ],
      "metadata": {
        "colab": {
          "base_uri": "https://localhost:8080/"
        },
        "id": "Y23qpXWny5rd",
        "outputId": "6d0671e4-abbf-4e9a-8c70-95732df3e04f"
      },
      "execution_count": null,
      "outputs": [
        {
          "output_type": "stream",
          "name": "stdout",
          "text": [
            "313/313 [==============================] - 1s 2ms/step - loss: 0.1492 - accuracy: 0.9554\n",
            "Loss on test data: 0.1491757184267044\n",
            "Accuracy on test data: 0.9553999900817871\n"
          ]
        }
      ]
    },
    {
      "cell_type": "code",
      "source": [
        "# вывод тестового изображения и результата распознавания\n",
        "n = 123\n",
        "result = model.predict(X_test[n:n+1])\n",
        "print('NN output:', result)\n",
        "plt.imshow(X_test[n].reshape(28,28), cmap=plt.get_cmap('gray'))\n",
        "plt.show()\n",
        "print('Real mark: ', str(np.argmax(y_test[n])))\n",
        "print('NN answer: ', str(np.argmax(result)))"
      ],
      "metadata": {
        "colab": {
          "base_uri": "https://localhost:8080/",
          "height": 517
        },
        "id": "f-p3gGxd0PSk",
        "outputId": "acf5052e-c804-44e8-c7f6-48e439f2eee9"
      },
      "execution_count": null,
      "outputs": [
        {
          "output_type": "stream",
          "name": "stdout",
          "text": [
            "1/1 [==============================] - 0s 96ms/step\n",
            "NN output: [[9.8915853e-10 9.9713790e-01 9.4405492e-05 7.9995691e-04 3.6997793e-05\n",
            "  2.9588076e-05 3.6676844e-05 1.1063667e-03 1.4518815e-04 6.1293098e-04]]\n"
          ]
        },
        {
          "output_type": "display_data",
          "data": {
            "text/plain": [
              "<Figure size 640x480 with 1 Axes>"
            ],
            "image/png": "[encoded data removed]"
          },
          "metadata": {}
        },
        {
          "output_type": "stream",
          "name": "stdout",
          "text": [
            "Real mark:  1\n",
            "NN answer:  1\n"
          ]
        }
      ]
    },
    {
      "cell_type": "code",
      "source": [
        "# загрузка собственного изображения\n",
        "from PIL import Image\n",
        "file_data = Image.open('test.png.png')\n",
        "file_data = file_data.convert('L') # перевод в градации серого\n",
        "test_img = np.array(file_data)"
      ],
      "metadata": {
        "id": "d6wjfuX66wTg"
      },
      "execution_count": null,
      "outputs": []
    },
    {
      "cell_type": "code",
      "source": [
        "# вывод собственного изображения\n",
        "plt.imshow(test_img, cmap=plt.get_cmap('gray'))\n",
        "plt.show()\n",
        "# предобработка\n",
        "test_img = test_img / 255\n",
        "test_img = test_img.reshape(1, num_pixels)\n",
        "# распознавание\n",
        "result = model.predict(test_img)\n",
        "print('I think it\\'s ', np.argmax(result))"
      ],
      "metadata": {
        "colab": {
          "base_uri": "https://localhost:8080/",
          "height": 465
        },
        "id": "U7AP3yEw9rBc",
        "outputId": "7b338a52-b2b3-4650-f218-15bfc3a6bc44"
      },
      "execution_count": null,
      "outputs": [
        {
          "output_type": "display_data",
          "data": {
            "text/plain": [
              "<Figure size 640x480 with 1 Axes>"
            ],
            "image/png": "[encoded data removed]"
          },
          "metadata": {}
        },
        {
          "output_type": "stream",
          "name": "stdout",
          "text": [
            "1/1 [==============================] - 0s 34ms/step\n",
            "I think it's  4\n"
          ]
        }
      ]
    }
  ]
}